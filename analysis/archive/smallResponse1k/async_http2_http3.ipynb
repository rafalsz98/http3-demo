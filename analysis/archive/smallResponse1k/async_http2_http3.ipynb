{
 "cells": [
  {
   "cell_type": "code",
   "execution_count": 1,
   "metadata": {},
   "outputs": [
    {
     "name": "stdout",
     "output_type": "stream",
     "text": [
      "All HTTP/2 sync requests: 1000\n",
      "Mismatched HTTP/2 sync requests: 0\n",
      "Failed HTTP/2 sync requests: 0\n",
      "\n",
      "All HTTP/3 sync requests: 1000\n",
      "Mismatched HTTP/3 sync requests: 5\n",
      "Failed HTTP/3 sync requests: 0\n",
      "\n"
     ]
    },
    {
     "data": {
      "text/html": [
       "<div>\n",
       "<style scoped>\n",
       "    .dataframe tbody tr th:only-of-type {\n",
       "        vertical-align: middle;\n",
       "    }\n",
       "\n",
       "    .dataframe tbody tr th {\n",
       "        vertical-align: top;\n",
       "    }\n",
       "\n",
       "    .dataframe thead th {\n",
       "        text-align: right;\n",
       "    }\n",
       "</style>\n",
       "<table border=\"1\" class=\"dataframe\">\n",
       "  <thead>\n",
       "    <tr style=\"text-align: right;\">\n",
       "      <th></th>\n",
       "      <th>HTTP/2 Sync Mean</th>\n",
       "      <th>HTTP/3 Sync Mean</th>\n",
       "    </tr>\n",
       "  </thead>\n",
       "  <tbody>\n",
       "    <tr>\n",
       "      <th>response_code</th>\n",
       "      <td>200.000000</td>\n",
       "      <td>200.000000</td>\n",
       "    </tr>\n",
       "    <tr>\n",
       "      <th>http_version</th>\n",
       "      <td>2.000000</td>\n",
       "      <td>3.000000</td>\n",
       "    </tr>\n",
       "    <tr>\n",
       "      <th>speed_download</th>\n",
       "      <td>30.251000</td>\n",
       "      <td>23.037186</td>\n",
       "    </tr>\n",
       "    <tr>\n",
       "      <th>speed_upload</th>\n",
       "      <td>0.000000</td>\n",
       "      <td>0.000000</td>\n",
       "    </tr>\n",
       "    <tr>\n",
       "      <th>time_starttransfer</th>\n",
       "      <td>0.131872</td>\n",
       "      <td>0.174613</td>\n",
       "    </tr>\n",
       "    <tr>\n",
       "      <th>time_pretransfer</th>\n",
       "      <td>0.091508</td>\n",
       "      <td>0.098099</td>\n",
       "    </tr>\n",
       "    <tr>\n",
       "      <th>time_appconnect</th>\n",
       "      <td>0.091165</td>\n",
       "      <td>0.093680</td>\n",
       "    </tr>\n",
       "    <tr>\n",
       "      <th>time_total</th>\n",
       "      <td>0.131966</td>\n",
       "      <td>0.174749</td>\n",
       "    </tr>\n",
       "    <tr>\n",
       "      <th>time_connect</th>\n",
       "      <td>0.044701</td>\n",
       "      <td>0.000000</td>\n",
       "    </tr>\n",
       "  </tbody>\n",
       "</table>\n",
       "</div>"
      ],
      "text/plain": [
       "                    HTTP/2 Sync Mean  HTTP/3 Sync Mean\n",
       "response_code             200.000000        200.000000\n",
       "http_version                2.000000          3.000000\n",
       "speed_download             30.251000         23.037186\n",
       "speed_upload                0.000000          0.000000\n",
       "time_starttransfer          0.131872          0.174613\n",
       "time_pretransfer            0.091508          0.098099\n",
       "time_appconnect             0.091165          0.093680\n",
       "time_total                  0.131966          0.174749\n",
       "time_connect                0.044701          0.000000"
      ]
     },
     "execution_count": 1,
     "metadata": {},
     "output_type": "execute_result"
    }
   ],
   "source": [
    "import function as f\n",
    "\n",
    "files = [\n",
    "  (\"data/http2synctest.csv\", \"sync\", 2),\n",
    "  (\"data/http3synctest.csv\", \"sync\", 3),\n",
    "]\n",
    "\n",
    "f.generate_df(files)[[\"HTTP/2 Sync Mean\", \"HTTP/3 Sync Mean\"]]"
   ]
  }
 ],
 "metadata": {
  "kernelspec": {
   "display_name": "Python 3",
   "language": "python",
   "name": "python3"
  },
  "language_info": {
   "codemirror_mode": {
    "name": "ipython",
    "version": 3
   },
   "file_extension": ".py",
   "mimetype": "text/x-python",
   "name": "python",
   "nbconvert_exporter": "python",
   "pygments_lexer": "ipython3",
   "version": "3.8.10"
  }
 },
 "nbformat": 4,
 "nbformat_minor": 2
}
